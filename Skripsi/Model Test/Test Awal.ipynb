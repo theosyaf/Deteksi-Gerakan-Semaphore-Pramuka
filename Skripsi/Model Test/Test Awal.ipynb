{
 "cells": [
  {
   "cell_type": "code",
   "execution_count": 1,
   "metadata": {},
   "outputs": [],
   "source": [
    "#Import Library\n",
    "from keras.layers import Conv2D, Dense, Dropout, Flatten, MaxPooling2D\n",
    "from keras.models import Sequential\n",
    "from tensorflow.keras.preprocessing.image import ImageDataGenerator"
   ]
  },
  {
   "cell_type": "code",
   "execution_count": 2,
   "metadata": {},
   "outputs": [
    {
     "name": "stdout",
     "output_type": "stream",
     "text": [
      "Found 469 images belonging to 26 classes.\n",
      "Found 104 images belonging to 26 classes.\n"
     ]
    }
   ],
   "source": [
    "#PreProcessing Data\n",
    "train_data_dir = \"G:/aan/Skripsi/dataset/train\"\n",
    "val_data_dir = \"G:/aan/Skripsi/dataset/valid\"\n",
    "target_size = (100,100)\n",
    "\n",
    "train_datagen = ImageDataGenerator(\n",
    "    rescale = 1./255,\n",
    "    rotation_range = 45,\n",
    "    shear_range =7,\n",
    "    zoom_range = 0.1,\n",
    "    horizontal_flip=False\n",
    ")\n",
    "\n",
    "train_generator = train_datagen.flow_from_directory(train_data_dir,\n",
    "                                                    target_size=target_size,\n",
    "                                                    batch_size=32,\n",
    "                                                    class_mode='categorical')\n",
    "\n",
    "val_datagen = ImageDataGenerator(\n",
    "    rescale = 1./255\n",
    ")\n",
    "\n",
    "val_generator = val_datagen.flow_from_directory(val_data_dir,\n",
    "                                                target_size=target_size,\n",
    "                                                batch_size=32,\n",
    "                                                class_mode='categorical')"
   ]
  },
  {
   "cell_type": "code",
   "execution_count": 3,
   "metadata": {},
   "outputs": [
    {
     "name": "stderr",
     "output_type": "stream",
     "text": [
      "c:\\Users\\Rezky\\AppData\\Local\\Programs\\Python\\Python311\\Lib\\site-packages\\keras\\src\\layers\\convolutional\\base_conv.py:107: UserWarning: Do not pass an `input_shape`/`input_dim` argument to a layer. When using Sequential models, prefer using an `Input(shape)` object as the first layer in the model instead.\n",
      "  super().__init__(activity_regularizer=activity_regularizer, **kwargs)\n"
     ]
    }
   ],
   "source": [
    "#CREATE MODEL\n",
    "model = Sequential()\n",
    "model.add(Conv2D(32,kernel_size=3,strides=1,activation='relu',padding='same',input_shape=(100,100,3)))\n",
    "model.add(MaxPooling2D(pool_size=(2,2),strides=2))\n",
    "\n",
    "model.add(Conv2D(64,kernel_size=3,strides=1,activation='relu',padding='same',input_shape=(100,100,3)))\n",
    "model.add(MaxPooling2D(pool_size=(2,2),strides=2))\n",
    "\n",
    "#FLATTEN\n",
    "model.add(Flatten())\n",
    "model.add(Dropout(0.5))\n",
    "model.add(Dense(512,activation='relu'))\n",
    "model.add(Dense(26,activation='softmax'))\n",
    "\n",
    "model.compile(optimizer='adam',loss='categorical_crossentropy',metrics=['accuracy'])"
   ]
  },
  {
   "cell_type": "code",
   "execution_count": 4,
   "metadata": {},
   "outputs": [
    {
     "data": {
      "text/html": [
       "<pre style=\"white-space:pre;overflow-x:auto;line-height:normal;font-family:Menlo,'DejaVu Sans Mono',consolas,'Courier New',monospace\"><span style=\"font-weight: bold\">Model: \"sequential\"</span>\n",
       "</pre>\n"
      ],
      "text/plain": [
       "\u001b[1mModel: \"sequential\"\u001b[0m\n"
      ]
     },
     "metadata": {},
     "output_type": "display_data"
    },
    {
     "data": {
      "text/html": [
       "<pre style=\"white-space:pre;overflow-x:auto;line-height:normal;font-family:Menlo,'DejaVu Sans Mono',consolas,'Courier New',monospace\">┏━━━━━━━━━━━━━━━━━━━━━━━━━━━━━━━━━┳━━━━━━━━━━━━━━━━━━━━━━━━┳━━━━━━━━━━━━━━━┓\n",
       "┃<span style=\"font-weight: bold\"> Layer (type)                    </span>┃<span style=\"font-weight: bold\"> Output Shape           </span>┃<span style=\"font-weight: bold\">       Param # </span>┃\n",
       "┡━━━━━━━━━━━━━━━━━━━━━━━━━━━━━━━━━╇━━━━━━━━━━━━━━━━━━━━━━━━╇━━━━━━━━━━━━━━━┩\n",
       "│ conv2d (<span style=\"color: #0087ff; text-decoration-color: #0087ff\">Conv2D</span>)                 │ (<span style=\"color: #00d7ff; text-decoration-color: #00d7ff\">None</span>, <span style=\"color: #00af00; text-decoration-color: #00af00\">100</span>, <span style=\"color: #00af00; text-decoration-color: #00af00\">100</span>, <span style=\"color: #00af00; text-decoration-color: #00af00\">32</span>)   │           <span style=\"color: #00af00; text-decoration-color: #00af00\">896</span> │\n",
       "├─────────────────────────────────┼────────────────────────┼───────────────┤\n",
       "│ max_pooling2d (<span style=\"color: #0087ff; text-decoration-color: #0087ff\">MaxPooling2D</span>)    │ (<span style=\"color: #00d7ff; text-decoration-color: #00d7ff\">None</span>, <span style=\"color: #00af00; text-decoration-color: #00af00\">50</span>, <span style=\"color: #00af00; text-decoration-color: #00af00\">50</span>, <span style=\"color: #00af00; text-decoration-color: #00af00\">32</span>)     │             <span style=\"color: #00af00; text-decoration-color: #00af00\">0</span> │\n",
       "├─────────────────────────────────┼────────────────────────┼───────────────┤\n",
       "│ conv2d_1 (<span style=\"color: #0087ff; text-decoration-color: #0087ff\">Conv2D</span>)               │ (<span style=\"color: #00d7ff; text-decoration-color: #00d7ff\">None</span>, <span style=\"color: #00af00; text-decoration-color: #00af00\">50</span>, <span style=\"color: #00af00; text-decoration-color: #00af00\">50</span>, <span style=\"color: #00af00; text-decoration-color: #00af00\">64</span>)     │        <span style=\"color: #00af00; text-decoration-color: #00af00\">18,496</span> │\n",
       "├─────────────────────────────────┼────────────────────────┼───────────────┤\n",
       "│ max_pooling2d_1 (<span style=\"color: #0087ff; text-decoration-color: #0087ff\">MaxPooling2D</span>)  │ (<span style=\"color: #00d7ff; text-decoration-color: #00d7ff\">None</span>, <span style=\"color: #00af00; text-decoration-color: #00af00\">25</span>, <span style=\"color: #00af00; text-decoration-color: #00af00\">25</span>, <span style=\"color: #00af00; text-decoration-color: #00af00\">64</span>)     │             <span style=\"color: #00af00; text-decoration-color: #00af00\">0</span> │\n",
       "├─────────────────────────────────┼────────────────────────┼───────────────┤\n",
       "│ flatten (<span style=\"color: #0087ff; text-decoration-color: #0087ff\">Flatten</span>)               │ (<span style=\"color: #00d7ff; text-decoration-color: #00d7ff\">None</span>, <span style=\"color: #00af00; text-decoration-color: #00af00\">40000</span>)          │             <span style=\"color: #00af00; text-decoration-color: #00af00\">0</span> │\n",
       "├─────────────────────────────────┼────────────────────────┼───────────────┤\n",
       "│ dropout (<span style=\"color: #0087ff; text-decoration-color: #0087ff\">Dropout</span>)               │ (<span style=\"color: #00d7ff; text-decoration-color: #00d7ff\">None</span>, <span style=\"color: #00af00; text-decoration-color: #00af00\">40000</span>)          │             <span style=\"color: #00af00; text-decoration-color: #00af00\">0</span> │\n",
       "├─────────────────────────────────┼────────────────────────┼───────────────┤\n",
       "│ dense (<span style=\"color: #0087ff; text-decoration-color: #0087ff\">Dense</span>)                   │ (<span style=\"color: #00d7ff; text-decoration-color: #00d7ff\">None</span>, <span style=\"color: #00af00; text-decoration-color: #00af00\">512</span>)            │    <span style=\"color: #00af00; text-decoration-color: #00af00\">20,480,512</span> │\n",
       "├─────────────────────────────────┼────────────────────────┼───────────────┤\n",
       "│ dense_1 (<span style=\"color: #0087ff; text-decoration-color: #0087ff\">Dense</span>)                 │ (<span style=\"color: #00d7ff; text-decoration-color: #00d7ff\">None</span>, <span style=\"color: #00af00; text-decoration-color: #00af00\">26</span>)             │        <span style=\"color: #00af00; text-decoration-color: #00af00\">13,338</span> │\n",
       "└─────────────────────────────────┴────────────────────────┴───────────────┘\n",
       "</pre>\n"
      ],
      "text/plain": [
       "┏━━━━━━━━━━━━━━━━━━━━━━━━━━━━━━━━━┳━━━━━━━━━━━━━━━━━━━━━━━━┳━━━━━━━━━━━━━━━┓\n",
       "┃\u001b[1m \u001b[0m\u001b[1mLayer (type)                   \u001b[0m\u001b[1m \u001b[0m┃\u001b[1m \u001b[0m\u001b[1mOutput Shape          \u001b[0m\u001b[1m \u001b[0m┃\u001b[1m \u001b[0m\u001b[1m      Param #\u001b[0m\u001b[1m \u001b[0m┃\n",
       "┡━━━━━━━━━━━━━━━━━━━━━━━━━━━━━━━━━╇━━━━━━━━━━━━━━━━━━━━━━━━╇━━━━━━━━━━━━━━━┩\n",
       "│ conv2d (\u001b[38;5;33mConv2D\u001b[0m)                 │ (\u001b[38;5;45mNone\u001b[0m, \u001b[38;5;34m100\u001b[0m, \u001b[38;5;34m100\u001b[0m, \u001b[38;5;34m32\u001b[0m)   │           \u001b[38;5;34m896\u001b[0m │\n",
       "├─────────────────────────────────┼────────────────────────┼───────────────┤\n",
       "│ max_pooling2d (\u001b[38;5;33mMaxPooling2D\u001b[0m)    │ (\u001b[38;5;45mNone\u001b[0m, \u001b[38;5;34m50\u001b[0m, \u001b[38;5;34m50\u001b[0m, \u001b[38;5;34m32\u001b[0m)     │             \u001b[38;5;34m0\u001b[0m │\n",
       "├─────────────────────────────────┼────────────────────────┼───────────────┤\n",
       "│ conv2d_1 (\u001b[38;5;33mConv2D\u001b[0m)               │ (\u001b[38;5;45mNone\u001b[0m, \u001b[38;5;34m50\u001b[0m, \u001b[38;5;34m50\u001b[0m, \u001b[38;5;34m64\u001b[0m)     │        \u001b[38;5;34m18,496\u001b[0m │\n",
       "├─────────────────────────────────┼────────────────────────┼───────────────┤\n",
       "│ max_pooling2d_1 (\u001b[38;5;33mMaxPooling2D\u001b[0m)  │ (\u001b[38;5;45mNone\u001b[0m, \u001b[38;5;34m25\u001b[0m, \u001b[38;5;34m25\u001b[0m, \u001b[38;5;34m64\u001b[0m)     │             \u001b[38;5;34m0\u001b[0m │\n",
       "├─────────────────────────────────┼────────────────────────┼───────────────┤\n",
       "│ flatten (\u001b[38;5;33mFlatten\u001b[0m)               │ (\u001b[38;5;45mNone\u001b[0m, \u001b[38;5;34m40000\u001b[0m)          │             \u001b[38;5;34m0\u001b[0m │\n",
       "├─────────────────────────────────┼────────────────────────┼───────────────┤\n",
       "│ dropout (\u001b[38;5;33mDropout\u001b[0m)               │ (\u001b[38;5;45mNone\u001b[0m, \u001b[38;5;34m40000\u001b[0m)          │             \u001b[38;5;34m0\u001b[0m │\n",
       "├─────────────────────────────────┼────────────────────────┼───────────────┤\n",
       "│ dense (\u001b[38;5;33mDense\u001b[0m)                   │ (\u001b[38;5;45mNone\u001b[0m, \u001b[38;5;34m512\u001b[0m)            │    \u001b[38;5;34m20,480,512\u001b[0m │\n",
       "├─────────────────────────────────┼────────────────────────┼───────────────┤\n",
       "│ dense_1 (\u001b[38;5;33mDense\u001b[0m)                 │ (\u001b[38;5;45mNone\u001b[0m, \u001b[38;5;34m26\u001b[0m)             │        \u001b[38;5;34m13,338\u001b[0m │\n",
       "└─────────────────────────────────┴────────────────────────┴───────────────┘\n"
      ]
     },
     "metadata": {},
     "output_type": "display_data"
    },
    {
     "data": {
      "text/html": [
       "<pre style=\"white-space:pre;overflow-x:auto;line-height:normal;font-family:Menlo,'DejaVu Sans Mono',consolas,'Courier New',monospace\"><span style=\"font-weight: bold\"> Total params: </span><span style=\"color: #00af00; text-decoration-color: #00af00\">20,513,242</span> (78.25 MB)\n",
       "</pre>\n"
      ],
      "text/plain": [
       "\u001b[1m Total params: \u001b[0m\u001b[38;5;34m20,513,242\u001b[0m (78.25 MB)\n"
      ]
     },
     "metadata": {},
     "output_type": "display_data"
    },
    {
     "data": {
      "text/html": [
       "<pre style=\"white-space:pre;overflow-x:auto;line-height:normal;font-family:Menlo,'DejaVu Sans Mono',consolas,'Courier New',monospace\"><span style=\"font-weight: bold\"> Trainable params: </span><span style=\"color: #00af00; text-decoration-color: #00af00\">20,513,242</span> (78.25 MB)\n",
       "</pre>\n"
      ],
      "text/plain": [
       "\u001b[1m Trainable params: \u001b[0m\u001b[38;5;34m20,513,242\u001b[0m (78.25 MB)\n"
      ]
     },
     "metadata": {},
     "output_type": "display_data"
    },
    {
     "data": {
      "text/html": [
       "<pre style=\"white-space:pre;overflow-x:auto;line-height:normal;font-family:Menlo,'DejaVu Sans Mono',consolas,'Courier New',monospace\"><span style=\"font-weight: bold\"> Non-trainable params: </span><span style=\"color: #00af00; text-decoration-color: #00af00\">0</span> (0.00 B)\n",
       "</pre>\n"
      ],
      "text/plain": [
       "\u001b[1m Non-trainable params: \u001b[0m\u001b[38;5;34m0\u001b[0m (0.00 B)\n"
      ]
     },
     "metadata": {},
     "output_type": "display_data"
    }
   ],
   "source": [
    "model.summary()"
   ]
  },
  {
   "cell_type": "code",
   "execution_count": 5,
   "metadata": {},
   "outputs": [
    {
     "name": "stderr",
     "output_type": "stream",
     "text": [
      "c:\\Users\\Rezky\\AppData\\Local\\Programs\\Python\\Python311\\Lib\\site-packages\\keras\\src\\trainers\\data_adapters\\py_dataset_adapter.py:121: UserWarning: Your `PyDataset` class should call `super().__init__(**kwargs)` in its constructor. `**kwargs` can include `workers`, `use_multiprocessing`, `max_queue_size`. Do not pass these arguments to `fit()`, as they will be ignored.\n",
      "  self._warn_if_super_not_called()\n"
     ]
    },
    {
     "name": "stdout",
     "output_type": "stream",
     "text": [
      "Epoch 1/10\n",
      "\u001b[1m15/15\u001b[0m \u001b[32m━━━━━━━━━━━━━━━━━━━━\u001b[0m\u001b[37m\u001b[0m \u001b[1m0s\u001b[0m 2s/step - accuracy: 0.0374 - loss: 3.8558"
     ]
    },
    {
     "name": "stderr",
     "output_type": "stream",
     "text": [
      "c:\\Users\\Rezky\\AppData\\Local\\Programs\\Python\\Python311\\Lib\\site-packages\\keras\\src\\trainers\\data_adapters\\py_dataset_adapter.py:121: UserWarning: Your `PyDataset` class should call `super().__init__(**kwargs)` in its constructor. `**kwargs` can include `workers`, `use_multiprocessing`, `max_queue_size`. Do not pass these arguments to `fit()`, as they will be ignored.\n",
      "  self._warn_if_super_not_called()\n"
     ]
    },
    {
     "name": "stdout",
     "output_type": "stream",
     "text": [
      "\u001b[1m15/15\u001b[0m \u001b[32m━━━━━━━━━━━━━━━━━━━━\u001b[0m\u001b[37m\u001b[0m \u001b[1m31s\u001b[0m 2s/step - accuracy: 0.0397 - loss: 3.8386 - val_accuracy: 0.2500 - val_loss: 3.1357\n",
      "Epoch 2/10\n",
      "\u001b[1m15/15\u001b[0m \u001b[32m━━━━━━━━━━━━━━━━━━━━\u001b[0m\u001b[37m\u001b[0m \u001b[1m16s\u001b[0m 1s/step - accuracy: 0.2502 - loss: 3.0715 - val_accuracy: 0.3269 - val_loss: 2.3915\n",
      "Epoch 3/10\n",
      "\u001b[1m15/15\u001b[0m \u001b[32m━━━━━━━━━━━━━━━━━━━━\u001b[0m\u001b[37m\u001b[0m \u001b[1m17s\u001b[0m 1s/step - accuracy: 0.3234 - loss: 2.3627 - val_accuracy: 0.3750 - val_loss: 1.6378\n",
      "Epoch 4/10\n",
      "\u001b[1m15/15\u001b[0m \u001b[32m━━━━━━━━━━━━━━━━━━━━\u001b[0m\u001b[37m\u001b[0m \u001b[1m17s\u001b[0m 1s/step - accuracy: 0.5020 - loss: 1.8789 - val_accuracy: 0.5865 - val_loss: 1.4282\n",
      "Epoch 5/10\n",
      "\u001b[1m15/15\u001b[0m \u001b[32m━━━━━━━━━━━━━━━━━━━━\u001b[0m\u001b[37m\u001b[0m \u001b[1m16s\u001b[0m 1s/step - accuracy: 0.5891 - loss: 1.3806 - val_accuracy: 0.6442 - val_loss: 1.2475\n",
      "Epoch 6/10\n",
      "\u001b[1m15/15\u001b[0m \u001b[32m━━━━━━━━━━━━━━━━━━━━\u001b[0m\u001b[37m\u001b[0m \u001b[1m16s\u001b[0m 1s/step - accuracy: 0.6252 - loss: 1.3379 - val_accuracy: 0.6058 - val_loss: 1.3121\n",
      "Epoch 7/10\n",
      "\u001b[1m15/15\u001b[0m \u001b[32m━━━━━━━━━━━━━━━━━━━━\u001b[0m\u001b[37m\u001b[0m \u001b[1m17s\u001b[0m 1s/step - accuracy: 0.6754 - loss: 1.1078 - val_accuracy: 0.7019 - val_loss: 1.3105\n",
      "Epoch 8/10\n",
      "\u001b[1m15/15\u001b[0m \u001b[32m━━━━━━━━━━━━━━━━━━━━\u001b[0m\u001b[37m\u001b[0m \u001b[1m16s\u001b[0m 1s/step - accuracy: 0.7426 - loss: 0.8044 - val_accuracy: 0.6635 - val_loss: 1.0504\n",
      "Epoch 9/10\n",
      "\u001b[1m15/15\u001b[0m \u001b[32m━━━━━━━━━━━━━━━━━━━━\u001b[0m\u001b[37m\u001b[0m \u001b[1m16s\u001b[0m 1s/step - accuracy: 0.7453 - loss: 0.8855 - val_accuracy: 0.7308 - val_loss: 1.1354\n",
      "Epoch 10/10\n",
      "\u001b[1m15/15\u001b[0m \u001b[32m━━━━━━━━━━━━━━━━━━━━\u001b[0m\u001b[37m\u001b[0m \u001b[1m17s\u001b[0m 1s/step - accuracy: 0.7849 - loss: 0.6605 - val_accuracy: 0.6923 - val_loss: 1.1153\n"
     ]
    },
    {
     "data": {
      "text/plain": [
       "<keras.src.callbacks.history.History at 0x24f1579d510>"
      ]
     },
     "execution_count": 5,
     "metadata": {},
     "output_type": "execute_result"
    }
   ],
   "source": [
    "model.fit(train_generator, epochs=10, validation_data=val_generator)"
   ]
  },
  {
   "cell_type": "code",
   "execution_count": 6,
   "metadata": {},
   "outputs": [
    {
     "name": "stdout",
     "output_type": "stream",
     "text": [
      "Found 78 images belonging to 26 classes.\n"
     ]
    }
   ],
   "source": [
    "#Test Data\n",
    "test_data_dir = \"G:/aan/Skripsi/dataset/test\"\n",
    "target_size = (100,100)\n",
    "\n",
    "test_datagen = ImageDataGenerator(\n",
    "    rescale = 1./255,\n",
    ")\n",
    "\n",
    "test_generator = test_datagen.flow_from_directory(test_data_dir,\n",
    "                                                    target_size=target_size,\n",
    "                                                    batch_size=32,\n",
    "                                                    class_mode='categorical',\n",
    "                                                    shuffle=False)"
   ]
  },
  {
   "cell_type": "code",
   "execution_count": 7,
   "metadata": {},
   "outputs": [
    {
     "name": "stdout",
     "output_type": "stream",
     "text": [
      "\u001b[1m3/3\u001b[0m \u001b[32m━━━━━━━━━━━━━━━━━━━━\u001b[0m\u001b[37m\u001b[0m \u001b[1m1s\u001b[0m 253ms/step - accuracy: 0.5106 - loss: 1.8515\n",
      "Loss: 2.1171\n",
      "Accuracy: 0.4744\n"
     ]
    }
   ],
   "source": [
    "loss, accuracy = model.evaluate(test_generator, verbose=1)\n",
    "print(f\"Loss: {loss:.4f}\")\n",
    "print(f\"Accuracy: {accuracy:.4f}\")"
   ]
  },
  {
   "cell_type": "code",
   "execution_count": 8,
   "metadata": {},
   "outputs": [
    {
     "name": "stdout",
     "output_type": "stream",
     "text": [
      "\u001b[1m3/3\u001b[0m \u001b[32m━━━━━━━━━━━━━━━━━━━━\u001b[0m\u001b[37m\u001b[0m \u001b[1m0s\u001b[0m 115ms/step\n",
      "Gambar ke-1: Prediksi = a, Label Sebenarnya = a\n",
      "Gambar ke-2: Prediksi = a, Label Sebenarnya = a\n",
      "Gambar ke-3: Prediksi = a, Label Sebenarnya = a\n",
      "Gambar ke-4: Prediksi = b, Label Sebenarnya = b\n",
      "Gambar ke-5: Prediksi = b, Label Sebenarnya = b\n",
      "Gambar ke-6: Prediksi = b, Label Sebenarnya = b\n",
      "Gambar ke-7: Prediksi = c, Label Sebenarnya = c\n",
      "Gambar ke-8: Prediksi = c, Label Sebenarnya = c\n",
      "Gambar ke-9: Prediksi = v, Label Sebenarnya = c\n",
      "Gambar ke-10: Prediksi = d, Label Sebenarnya = d\n",
      "Gambar ke-11: Prediksi = d, Label Sebenarnya = d\n",
      "Gambar ke-12: Prediksi = g, Label Sebenarnya = d\n",
      "Gambar ke-13: Prediksi = j, Label Sebenarnya = e\n",
      "Gambar ke-14: Prediksi = j, Label Sebenarnya = e\n",
      "Gambar ke-15: Prediksi = e, Label Sebenarnya = e\n",
      "Gambar ke-16: Prediksi = f, Label Sebenarnya = f\n",
      "Gambar ke-17: Prediksi = f, Label Sebenarnya = f\n",
      "Gambar ke-18: Prediksi = n, Label Sebenarnya = f\n",
      "Gambar ke-19: Prediksi = g, Label Sebenarnya = g\n",
      "Gambar ke-20: Prediksi = g, Label Sebenarnya = g\n",
      "Gambar ke-21: Prediksi = f, Label Sebenarnya = g\n",
      "Gambar ke-22: Prediksi = h, Label Sebenarnya = h\n",
      "Gambar ke-23: Prediksi = h, Label Sebenarnya = h\n",
      "Gambar ke-24: Prediksi = a, Label Sebenarnya = h\n",
      "Gambar ke-25: Prediksi = i, Label Sebenarnya = i\n",
      "Gambar ke-26: Prediksi = i, Label Sebenarnya = i\n",
      "Gambar ke-27: Prediksi = o, Label Sebenarnya = i\n",
      "Gambar ke-28: Prediksi = y, Label Sebenarnya = j\n",
      "Gambar ke-29: Prediksi = y, Label Sebenarnya = j\n",
      "Gambar ke-30: Prediksi = g, Label Sebenarnya = j\n",
      "Gambar ke-31: Prediksi = l, Label Sebenarnya = k\n",
      "Gambar ke-32: Prediksi = k, Label Sebenarnya = k\n",
      "Gambar ke-33: Prediksi = k, Label Sebenarnya = k\n",
      "Gambar ke-34: Prediksi = m, Label Sebenarnya = l\n",
      "Gambar ke-35: Prediksi = m, Label Sebenarnya = l\n",
      "Gambar ke-36: Prediksi = m, Label Sebenarnya = l\n",
      "Gambar ke-37: Prediksi = r, Label Sebenarnya = m\n",
      "Gambar ke-38: Prediksi = r, Label Sebenarnya = m\n",
      "Gambar ke-39: Prediksi = y, Label Sebenarnya = m\n",
      "Gambar ke-40: Prediksi = n, Label Sebenarnya = n\n",
      "Gambar ke-41: Prediksi = n, Label Sebenarnya = n\n",
      "Gambar ke-42: Prediksi = n, Label Sebenarnya = n\n",
      "Gambar ke-43: Prediksi = o, Label Sebenarnya = o\n",
      "Gambar ke-44: Prediksi = o, Label Sebenarnya = o\n",
      "Gambar ke-45: Prediksi = h, Label Sebenarnya = o\n",
      "Gambar ke-46: Prediksi = t, Label Sebenarnya = p\n",
      "Gambar ke-47: Prediksi = t, Label Sebenarnya = p\n",
      "Gambar ke-48: Prediksi = h, Label Sebenarnya = p\n",
      "Gambar ke-49: Prediksi = v, Label Sebenarnya = q\n",
      "Gambar ke-50: Prediksi = v, Label Sebenarnya = q\n",
      "Gambar ke-51: Prediksi = k, Label Sebenarnya = q\n",
      "Gambar ke-52: Prediksi = r, Label Sebenarnya = r\n",
      "Gambar ke-53: Prediksi = r, Label Sebenarnya = r\n",
      "Gambar ke-54: Prediksi = q, Label Sebenarnya = r\n",
      "Gambar ke-55: Prediksi = n, Label Sebenarnya = s\n",
      "Gambar ke-56: Prediksi = n, Label Sebenarnya = s\n",
      "Gambar ke-57: Prediksi = s, Label Sebenarnya = s\n",
      "Gambar ke-58: Prediksi = n, Label Sebenarnya = t\n",
      "Gambar ke-59: Prediksi = n, Label Sebenarnya = t\n",
      "Gambar ke-60: Prediksi = p, Label Sebenarnya = t\n",
      "Gambar ke-61: Prediksi = v, Label Sebenarnya = u\n",
      "Gambar ke-62: Prediksi = v, Label Sebenarnya = u\n",
      "Gambar ke-63: Prediksi = m, Label Sebenarnya = u\n",
      "Gambar ke-64: Prediksi = v, Label Sebenarnya = v\n",
      "Gambar ke-65: Prediksi = v, Label Sebenarnya = v\n",
      "Gambar ke-66: Prediksi = y, Label Sebenarnya = v\n",
      "Gambar ke-67: Prediksi = w, Label Sebenarnya = w\n",
      "Gambar ke-68: Prediksi = w, Label Sebenarnya = w\n",
      "Gambar ke-69: Prediksi = w, Label Sebenarnya = w\n",
      "Gambar ke-70: Prediksi = g, Label Sebenarnya = x\n",
      "Gambar ke-71: Prediksi = g, Label Sebenarnya = x\n",
      "Gambar ke-72: Prediksi = w, Label Sebenarnya = x\n",
      "Gambar ke-73: Prediksi = v, Label Sebenarnya = y\n",
      "Gambar ke-74: Prediksi = v, Label Sebenarnya = y\n",
      "Gambar ke-75: Prediksi = y, Label Sebenarnya = y\n",
      "Gambar ke-76: Prediksi = z, Label Sebenarnya = z\n",
      "Gambar ke-77: Prediksi = z, Label Sebenarnya = z\n",
      "Gambar ke-78: Prediksi = g, Label Sebenarnya = z\n"
     ]
    }
   ],
   "source": [
    "import numpy as np\n",
    "\n",
    "predictions = model.predict(test_generator)\n",
    "predicted_classes = np.argmax(predictions, axis=1) # Mendapatkan indeks kelas dengan probabilitas tertinggi\n",
    "true_classes = test_generator.classes # Mendapatkan label sebenarnya dari generator\n",
    "class_labels = list(test_generator.class_indices.keys()) # Mendapatkan nama label kelas\n",
    "\n",
    "for i in range(len(true_classes)):\n",
    "    print(f\"Gambar ke-{i+1}: Prediksi = {class_labels[predicted_classes[i]]}, Label Sebenarnya = {class_labels[true_classes[i]]}\")"
   ]
  }
 ],
 "metadata": {
  "kernelspec": {
   "display_name": "Python 3",
   "language": "python",
   "name": "python3"
  },
  "language_info": {
   "codemirror_mode": {
    "name": "ipython",
    "version": 3
   },
   "file_extension": ".py",
   "mimetype": "text/x-python",
   "name": "python",
   "nbconvert_exporter": "python",
   "pygments_lexer": "ipython3",
   "version": "3.11.4"
  }
 },
 "nbformat": 4,
 "nbformat_minor": 2
}
